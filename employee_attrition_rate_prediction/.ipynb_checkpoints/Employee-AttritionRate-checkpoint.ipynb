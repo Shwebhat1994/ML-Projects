{
 "cells": [
  {
   "cell_type": "code",
   "execution_count": 1,
   "id": "c0303891",
   "metadata": {},
   "outputs": [],
   "source": [
    "#Importing Necessary Libraries \n",
    "import pandas as pd\n",
    "import numpy as np\n",
    "import matplotlib.pyplot as py\n",
    "%matplotlib inline"
   ]
  },
  {
   "cell_type": "code",
   "execution_count": 2,
   "id": "079c6e63",
   "metadata": {},
   "outputs": [],
   "source": [
    "#Loading the Employee Dataset \n",
    "\n",
    "employee_data = pd.read_csv (\".//employee_attire.csv\")"
   ]
  },
  {
   "cell_type": "code",
   "execution_count": 3,
   "id": "6b216ba7",
   "metadata": {},
   "outputs": [
    {
     "data": {
      "text/plain": [
       "Index(['table id', 'name', 'phone number', 'Location', 'Emp. Group',\n",
       "       'Function', 'Gender ', 'Tenure', 'Tenure Grp.', 'Experience (YY.MM)',\n",
       "       'Marital Status', 'Age in YY.', 'Hiring Source',\n",
       "       'Promoted/Non Promoted', 'Job Role Match', 'Stay/Left'],\n",
       "      dtype='object')"
      ]
     },
     "execution_count": 3,
     "metadata": {},
     "output_type": "execute_result"
    }
   ],
   "source": [
    "#Data Preprocessing Steps \n",
    "\n",
    "employee_data.columns"
   ]
  },
  {
   "cell_type": "code",
   "execution_count": 4,
   "id": "dc478da1",
   "metadata": {},
   "outputs": [
    {
     "data": {
      "text/html": [
       "<div>\n",
       "<style scoped>\n",
       "    .dataframe tbody tr th:only-of-type {\n",
       "        vertical-align: middle;\n",
       "    }\n",
       "\n",
       "    .dataframe tbody tr th {\n",
       "        vertical-align: top;\n",
       "    }\n",
       "\n",
       "    .dataframe thead th {\n",
       "        text-align: right;\n",
       "    }\n",
       "</style>\n",
       "<table border=\"1\" class=\"dataframe\">\n",
       "  <thead>\n",
       "    <tr style=\"text-align: right;\">\n",
       "      <th></th>\n",
       "      <th>table id</th>\n",
       "      <th>phone number</th>\n",
       "      <th>Tenure</th>\n",
       "      <th>Experience (YY.MM)</th>\n",
       "      <th>Age in YY.</th>\n",
       "    </tr>\n",
       "  </thead>\n",
       "  <tbody>\n",
       "    <tr>\n",
       "      <th>count</th>\n",
       "      <td>902.000000</td>\n",
       "      <td>9.020000e+02</td>\n",
       "      <td>902.000000</td>\n",
       "      <td>898.000000</td>\n",
       "      <td>902.000000</td>\n",
       "    </tr>\n",
       "    <tr>\n",
       "      <th>mean</th>\n",
       "      <td>451.500000</td>\n",
       "      <td>9.876544e+09</td>\n",
       "      <td>1.198293</td>\n",
       "      <td>5.150457</td>\n",
       "      <td>29.055288</td>\n",
       "    </tr>\n",
       "    <tr>\n",
       "      <th>std</th>\n",
       "      <td>260.529269</td>\n",
       "      <td>0.000000e+00</td>\n",
       "      <td>0.823203</td>\n",
       "      <td>3.483456</td>\n",
       "      <td>4.499554</td>\n",
       "    </tr>\n",
       "    <tr>\n",
       "      <th>min</th>\n",
       "      <td>1.000000</td>\n",
       "      <td>9.876544e+09</td>\n",
       "      <td>0.000000</td>\n",
       "      <td>0.030000</td>\n",
       "      <td>21.050000</td>\n",
       "    </tr>\n",
       "    <tr>\n",
       "      <th>25%</th>\n",
       "      <td>226.250000</td>\n",
       "      <td>9.876544e+09</td>\n",
       "      <td>0.110000</td>\n",
       "      <td>2.100000</td>\n",
       "      <td>26.050000</td>\n",
       "    </tr>\n",
       "    <tr>\n",
       "      <th>50%</th>\n",
       "      <td>451.500000</td>\n",
       "      <td>9.876544e+09</td>\n",
       "      <td>1.060000</td>\n",
       "      <td>4.110000</td>\n",
       "      <td>28.060000</td>\n",
       "    </tr>\n",
       "    <tr>\n",
       "      <th>75%</th>\n",
       "      <td>676.750000</td>\n",
       "      <td>9.876544e+09</td>\n",
       "      <td>2.040000</td>\n",
       "      <td>7.027500</td>\n",
       "      <td>31.070000</td>\n",
       "    </tr>\n",
       "    <tr>\n",
       "      <th>max</th>\n",
       "      <td>902.000000</td>\n",
       "      <td>9.876544e+09</td>\n",
       "      <td>3.000000</td>\n",
       "      <td>25.080000</td>\n",
       "      <td>52.060000</td>\n",
       "    </tr>\n",
       "  </tbody>\n",
       "</table>\n",
       "</div>"
      ],
      "text/plain": [
       "         table id  phone number      Tenure  Experience (YY.MM)  Age in YY.\n",
       "count  902.000000  9.020000e+02  902.000000          898.000000  902.000000\n",
       "mean   451.500000  9.876544e+09    1.198293            5.150457   29.055288\n",
       "std    260.529269  0.000000e+00    0.823203            3.483456    4.499554\n",
       "min      1.000000  9.876544e+09    0.000000            0.030000   21.050000\n",
       "25%    226.250000  9.876544e+09    0.110000            2.100000   26.050000\n",
       "50%    451.500000  9.876544e+09    1.060000            4.110000   28.060000\n",
       "75%    676.750000  9.876544e+09    2.040000            7.027500   31.070000\n",
       "max    902.000000  9.876544e+09    3.000000           25.080000   52.060000"
      ]
     },
     "execution_count": 4,
     "metadata": {},
     "output_type": "execute_result"
    }
   ],
   "source": [
    "employee_data.describe()"
   ]
  },
  {
   "cell_type": "code",
   "execution_count": 5,
   "id": "a51fe6db",
   "metadata": {},
   "outputs": [],
   "source": [
    "#Dropping columns which don't look of much use for our target prediction \n",
    "\n",
    "employee_data = employee_data .drop (columns=['table id' , 'name' , 'phone number' , 'Function' , 'Tenure' , 'Marital Status',\n",
    "                                           'Hiring Source' , 'Location' , 'Emp. Group'])"
   ]
  },
  {
   "cell_type": "code",
   "execution_count": 6,
   "id": "5937e188",
   "metadata": {},
   "outputs": [
    {
     "data": {
      "text/plain": [
       "Gender                    object\n",
       "Tenure Grp.               object\n",
       "Experience (YY.MM)       float64\n",
       "Age in YY.               float64\n",
       "Promoted/Non Promoted     object\n",
       "Job Role Match            object\n",
       "Stay/Left                 object\n",
       "dtype: object"
      ]
     },
     "execution_count": 6,
     "metadata": {},
     "output_type": "execute_result"
    }
   ],
   "source": [
    "employee_data.dtypes"
   ]
  },
  {
   "cell_type": "code",
   "execution_count": 7,
   "id": "416c921e",
   "metadata": {},
   "outputs": [],
   "source": [
    "#Renaming the column names to simpler one for ease & saving it in a new dataset\n",
    "\n",
    "employee_data_new=employee_data.rename(columns={'Tenure Grp.': 'Tenure', 'Experience (YY.MM)': 'Experience', 'Age in YY.': 'Age',\n",
    "                             'Promoted/Non Promoted' :'Promotion_Status' ,'Job Role Match':'Role_Match' ,'Stay/Left' : 'Status'})"
   ]
  },
  {
   "cell_type": "code",
   "execution_count": 8,
   "id": "6f6591aa",
   "metadata": {},
   "outputs": [
    {
     "data": {
      "text/plain": [
       "<bound method DataFrame.info of     Gender  Tenure  Experience    Age Promotion_Status Role_Match Status\n",
       "0      Male   < =1        6.08  27.12     Non Promoted        Yes   Left\n",
       "1      Male   < =1       13.00  38.08         Promoted         No   Stay\n",
       "2      Male   < =1       16.05  36.04         Promoted        Yes   Stay\n",
       "3      Male   < =1        6.06  32.07         Promoted        Yes   Stay\n",
       "4      Male   < =1        7.00  32.05     Non Promoted        Yes   Stay\n",
       "..      ...    ...         ...    ...              ...        ...    ...\n",
       "897  Female   < =1        0.03  21.09     Non Promoted        Yes   Stay\n",
       "898  Female   < =1        0.03  22.02     Non Promoted        Yes   Left\n",
       "899  Female   < =1        0.03  22.01     Non Promoted        NaN   Left\n",
       "900  Female   < =1        0.03  22.02     Non Promoted        Yes   Stay\n",
       "901    Male   < =1       10.02  32.08     Non Promoted         No   Stay\n",
       "\n",
       "[902 rows x 7 columns]>"
      ]
     },
     "execution_count": 8,
     "metadata": {},
     "output_type": "execute_result"
    }
   ],
   "source": [
    "employee_data_new.info"
   ]
  },
  {
   "cell_type": "code",
   "execution_count": 9,
   "id": "5c7c95e3",
   "metadata": {},
   "outputs": [
    {
     "data": {
      "text/plain": [
       "Gender              0\n",
       "Tenure              0\n",
       "Experience          4\n",
       "Age                 0\n",
       "Promotion_Status    0\n",
       "Role_Match          2\n",
       "Status              0\n",
       "dtype: int64"
      ]
     },
     "execution_count": 9,
     "metadata": {},
     "output_type": "execute_result"
    }
   ],
   "source": [
    "#Checking for Missing values \n",
    "\n",
    "employee_data_new.isna().sum()\n",
    "\n"
   ]
  },
  {
   "cell_type": "code",
   "execution_count": 10,
   "id": "5e8b13ed",
   "metadata": {},
   "outputs": [],
   "source": [
    "#Since the number of null values isn't so much we can consider dropping (just 6) \n",
    "\n",
    "employee_data_new = employee_data_new.dropna()\n"
   ]
  },
  {
   "cell_type": "code",
   "execution_count": 11,
   "id": "9dcc3c2b",
   "metadata": {},
   "outputs": [
    {
     "data": {
      "text/plain": [
       "Gender              0\n",
       "Tenure              0\n",
       "Experience          0\n",
       "Age                 0\n",
       "Promotion_Status    0\n",
       "Role_Match          0\n",
       "Status              0\n",
       "dtype: int64"
      ]
     },
     "execution_count": 11,
     "metadata": {},
     "output_type": "execute_result"
    }
   ],
   "source": [
    "#Cross check the shape of the dataset\n",
    "\n",
    "employee_data_new.isna().sum()\n",
    "\n"
   ]
  },
  {
   "cell_type": "code",
   "execution_count": 12,
   "id": "32385c60",
   "metadata": {},
   "outputs": [
    {
     "data": {
      "text/plain": [
       "7"
      ]
     },
     "execution_count": 12,
     "metadata": {},
     "output_type": "execute_result"
    }
   ],
   "source": [
    "#Check for duplicate values \n",
    "\n",
    "employee_data_new.duplicated().sum()"
   ]
  },
  {
   "cell_type": "code",
   "execution_count": 13,
   "id": "1bb80511",
   "metadata": {},
   "outputs": [
    {
     "data": {
      "text/html": [
       "<div>\n",
       "<style scoped>\n",
       "    .dataframe tbody tr th:only-of-type {\n",
       "        vertical-align: middle;\n",
       "    }\n",
       "\n",
       "    .dataframe tbody tr th {\n",
       "        vertical-align: top;\n",
       "    }\n",
       "\n",
       "    .dataframe thead th {\n",
       "        text-align: right;\n",
       "    }\n",
       "</style>\n",
       "<table border=\"1\" class=\"dataframe\">\n",
       "  <thead>\n",
       "    <tr style=\"text-align: right;\">\n",
       "      <th></th>\n",
       "      <th>Gender</th>\n",
       "      <th>Tenure</th>\n",
       "      <th>Experience</th>\n",
       "      <th>Age</th>\n",
       "      <th>Promotion_Status</th>\n",
       "      <th>Role_Match</th>\n",
       "      <th>Status</th>\n",
       "    </tr>\n",
       "  </thead>\n",
       "  <tbody>\n",
       "    <tr>\n",
       "      <th>0</th>\n",
       "      <td>Male</td>\n",
       "      <td>&lt; =1</td>\n",
       "      <td>6.08</td>\n",
       "      <td>27.12</td>\n",
       "      <td>Non Promoted</td>\n",
       "      <td>Yes</td>\n",
       "      <td>Left</td>\n",
       "    </tr>\n",
       "    <tr>\n",
       "      <th>1</th>\n",
       "      <td>Male</td>\n",
       "      <td>&lt; =1</td>\n",
       "      <td>13.00</td>\n",
       "      <td>38.08</td>\n",
       "      <td>Promoted</td>\n",
       "      <td>No</td>\n",
       "      <td>Stay</td>\n",
       "    </tr>\n",
       "    <tr>\n",
       "      <th>2</th>\n",
       "      <td>Male</td>\n",
       "      <td>&lt; =1</td>\n",
       "      <td>16.05</td>\n",
       "      <td>36.04</td>\n",
       "      <td>Promoted</td>\n",
       "      <td>Yes</td>\n",
       "      <td>Stay</td>\n",
       "    </tr>\n",
       "    <tr>\n",
       "      <th>3</th>\n",
       "      <td>Male</td>\n",
       "      <td>&lt; =1</td>\n",
       "      <td>6.06</td>\n",
       "      <td>32.07</td>\n",
       "      <td>Promoted</td>\n",
       "      <td>Yes</td>\n",
       "      <td>Stay</td>\n",
       "    </tr>\n",
       "    <tr>\n",
       "      <th>4</th>\n",
       "      <td>Male</td>\n",
       "      <td>&lt; =1</td>\n",
       "      <td>7.00</td>\n",
       "      <td>32.05</td>\n",
       "      <td>Non Promoted</td>\n",
       "      <td>Yes</td>\n",
       "      <td>Stay</td>\n",
       "    </tr>\n",
       "    <tr>\n",
       "      <th>...</th>\n",
       "      <td>...</td>\n",
       "      <td>...</td>\n",
       "      <td>...</td>\n",
       "      <td>...</td>\n",
       "      <td>...</td>\n",
       "      <td>...</td>\n",
       "      <td>...</td>\n",
       "    </tr>\n",
       "    <tr>\n",
       "      <th>896</th>\n",
       "      <td>Male</td>\n",
       "      <td>&lt; =1</td>\n",
       "      <td>0.03</td>\n",
       "      <td>24.06</td>\n",
       "      <td>Non Promoted</td>\n",
       "      <td>Yes</td>\n",
       "      <td>Stay</td>\n",
       "    </tr>\n",
       "    <tr>\n",
       "      <th>897</th>\n",
       "      <td>Female</td>\n",
       "      <td>&lt; =1</td>\n",
       "      <td>0.03</td>\n",
       "      <td>21.09</td>\n",
       "      <td>Non Promoted</td>\n",
       "      <td>Yes</td>\n",
       "      <td>Stay</td>\n",
       "    </tr>\n",
       "    <tr>\n",
       "      <th>898</th>\n",
       "      <td>Female</td>\n",
       "      <td>&lt; =1</td>\n",
       "      <td>0.03</td>\n",
       "      <td>22.02</td>\n",
       "      <td>Non Promoted</td>\n",
       "      <td>Yes</td>\n",
       "      <td>Left</td>\n",
       "    </tr>\n",
       "    <tr>\n",
       "      <th>900</th>\n",
       "      <td>Female</td>\n",
       "      <td>&lt; =1</td>\n",
       "      <td>0.03</td>\n",
       "      <td>22.02</td>\n",
       "      <td>Non Promoted</td>\n",
       "      <td>Yes</td>\n",
       "      <td>Stay</td>\n",
       "    </tr>\n",
       "    <tr>\n",
       "      <th>901</th>\n",
       "      <td>Male</td>\n",
       "      <td>&lt; =1</td>\n",
       "      <td>10.02</td>\n",
       "      <td>32.08</td>\n",
       "      <td>Non Promoted</td>\n",
       "      <td>No</td>\n",
       "      <td>Stay</td>\n",
       "    </tr>\n",
       "  </tbody>\n",
       "</table>\n",
       "<p>889 rows × 7 columns</p>\n",
       "</div>"
      ],
      "text/plain": [
       "    Gender  Tenure  Experience    Age Promotion_Status Role_Match Status\n",
       "0      Male   < =1        6.08  27.12     Non Promoted        Yes   Left\n",
       "1      Male   < =1       13.00  38.08         Promoted         No   Stay\n",
       "2      Male   < =1       16.05  36.04         Promoted        Yes   Stay\n",
       "3      Male   < =1        6.06  32.07         Promoted        Yes   Stay\n",
       "4      Male   < =1        7.00  32.05     Non Promoted        Yes   Stay\n",
       "..      ...    ...         ...    ...              ...        ...    ...\n",
       "896    Male   < =1        0.03  24.06     Non Promoted        Yes   Stay\n",
       "897  Female   < =1        0.03  21.09     Non Promoted        Yes   Stay\n",
       "898  Female   < =1        0.03  22.02     Non Promoted        Yes   Left\n",
       "900  Female   < =1        0.03  22.02     Non Promoted        Yes   Stay\n",
       "901    Male   < =1       10.02  32.08     Non Promoted         No   Stay\n",
       "\n",
       "[889 rows x 7 columns]"
      ]
     },
     "execution_count": 13,
     "metadata": {},
     "output_type": "execute_result"
    }
   ],
   "source": [
    "#Drop Duplicate values \n",
    "\n",
    "employee_data_new.drop_duplicates()"
   ]
  },
  {
   "cell_type": "code",
   "execution_count": 14,
   "id": "3e0fa0f3",
   "metadata": {},
   "outputs": [
    {
     "data": {
      "text/plain": [
       "(896, 7)"
      ]
     },
     "execution_count": 14,
     "metadata": {},
     "output_type": "execute_result"
    }
   ],
   "source": [
    "#Check the shape of the dataset \n",
    "\n",
    "employee_data_new.shape"
   ]
  },
  {
   "cell_type": "code",
   "execution_count": 15,
   "id": "78ce3564",
   "metadata": {},
   "outputs": [
    {
     "name": "stderr",
     "output_type": "stream",
     "text": [
      "C:\\Users\\Shweta Bhat\\anaconda3\\lib\\site-packages\\seaborn\\_decorators.py:36: FutureWarning: Pass the following variable as a keyword arg: x. From version 0.12, the only valid positional argument will be `data`, and passing other arguments without an explicit keyword will result in an error or misinterpretation.\n",
      "  warnings.warn(\n"
     ]
    },
    {
     "data": {
      "text/plain": [
       "<AxesSubplot:xlabel='Experience'>"
      ]
     },
     "execution_count": 15,
     "metadata": {},
     "output_type": "execute_result"
    },
    {
     "data": {
      "image/png": "[encoded data removed]",
      "text/plain": [
       "<Figure size 432x288 with 1 Axes>"
      ]
     },
     "metadata": {
      "needs_background": "light"
     },
     "output_type": "display_data"
    }
   ],
   "source": [
    "#Check for outliers in dataset having numerical values \n",
    "import seaborn as sns \n",
    "\n",
    "sns.boxplot(employee_data_new.Experience)\n"
   ]
  },
  {
   "cell_type": "code",
   "execution_count": 16,
   "id": "bd4380f2",
   "metadata": {},
   "outputs": [
    {
     "name": "stderr",
     "output_type": "stream",
     "text": [
      "C:\\Users\\Shweta Bhat\\anaconda3\\lib\\site-packages\\seaborn\\_decorators.py:36: FutureWarning: Pass the following variable as a keyword arg: x. From version 0.12, the only valid positional argument will be `data`, and passing other arguments without an explicit keyword will result in an error or misinterpretation.\n",
      "  warnings.warn(\n"
     ]
    },
    {
     "data": {
      "text/plain": [
       "<AxesSubplot:xlabel='Age'>"
      ]
     },
     "execution_count": 16,
     "metadata": {},
     "output_type": "execute_result"
    },
    {
     "data": {
      "image/png": "[encoded data removed]",
      "text/plain": [
       "<Figure size 432x288 with 1 Axes>"
      ]
     },
     "metadata": {
      "needs_background": "light"
     },
     "output_type": "display_data"
    }
   ],
   "source": [
    "sns.boxplot (employee_data_new.Age)"
   ]
  },
  {
   "cell_type": "code",
   "execution_count": 17,
   "id": "7e6b1372",
   "metadata": {},
   "outputs": [],
   "source": [
    "# Even though there are outliers I won't be replacing or dropping given it's not a problem for my ultimate prediction "
   ]
  },
  {
   "cell_type": "code",
   "execution_count": 18,
   "id": "a3dd0c88",
   "metadata": {},
   "outputs": [
    {
     "data": {
      "text/plain": [
       "Male      656\n",
       "Female    234\n",
       "other       6\n",
       "Name: Gender , dtype: int64"
      ]
     },
     "execution_count": 18,
     "metadata": {},
     "output_type": "execute_result"
    }
   ],
   "source": [
    "#Checking the value counts for the categorical variables \n",
    "employee_data_new['Gender '].value_counts()\n",
    "\n"
   ]
  },
  {
   "cell_type": "code",
   "execution_count": 19,
   "id": "8660c16f",
   "metadata": {},
   "outputs": [
    {
     "data": {
      "text/plain": [
       "Promoted        457\n",
       "Non Promoted    439\n",
       "Name: Promotion_Status, dtype: int64"
      ]
     },
     "execution_count": 19,
     "metadata": {},
     "output_type": "execute_result"
    }
   ],
   "source": [
    "employee_data_new['Promotion_Status'].value_counts()"
   ]
  },
  {
   "cell_type": "code",
   "execution_count": 20,
   "id": "8f40c22b",
   "metadata": {},
   "outputs": [
    {
     "data": {
      "text/plain": [
       "Yes    481\n",
       "No     415\n",
       "Name: Role_Match, dtype: int64"
      ]
     },
     "execution_count": 20,
     "metadata": {},
     "output_type": "execute_result"
    }
   ],
   "source": [
    "employee_data_new['Role_Match'].value_counts()"
   ]
  },
  {
   "cell_type": "code",
   "execution_count": 21,
   "id": "975c3140",
   "metadata": {},
   "outputs": [
    {
     "data": {
      "text/plain": [
       "<AxesSubplot:xlabel='Gender ', ylabel='count'>"
      ]
     },
     "execution_count": 21,
     "metadata": {},
     "output_type": "execute_result"
    },
    {
     "data": {
      "image/png": "[encoded data removed]",
      "text/plain": [
       "<Figure size 432x288 with 1 Axes>"
      ]
     },
     "metadata": {
      "needs_background": "light"
     },
     "output_type": "display_data"
    }
   ],
   "source": [
    "#Visualizing the above results through a countplot \n",
    "\n",
    "sns.countplot(x ='Gender ', data = employee_data_new)"
   ]
  },
  {
   "cell_type": "code",
   "execution_count": 22,
   "id": "a8de41d3",
   "metadata": {},
   "outputs": [
    {
     "data": {
      "text/plain": [
       "<AxesSubplot:xlabel='Promotion_Status', ylabel='count'>"
      ]
     },
     "execution_count": 22,
     "metadata": {},
     "output_type": "execute_result"
    },
    {
     "data": {
      "image/png": "[encoded data removed]",
      "text/plain": [
       "<Figure size 432x288 with 1 Axes>"
      ]
     },
     "metadata": {
      "needs_background": "light"
     },
     "output_type": "display_data"
    }
   ],
   "source": [
    "sns.countplot(x ='Promotion_Status', data = employee_data_new)"
   ]
  },
  {
   "cell_type": "code",
   "execution_count": 23,
   "id": "32db9cd6",
   "metadata": {},
   "outputs": [
    {
     "data": {
      "text/plain": [
       "<AxesSubplot:xlabel='Role_Match', ylabel='count'>"
      ]
     },
     "execution_count": 23,
     "metadata": {},
     "output_type": "execute_result"
    },
    {
     "data": {
      "image/png": "[encoded data removed]",
      "text/plain": [
       "<Figure size 432x288 with 1 Axes>"
      ]
     },
     "metadata": {
      "needs_background": "light"
     },
     "output_type": "display_data"
    }
   ],
   "source": [
    "sns.countplot(x ='Role_Match', data = employee_data_new)"
   ]
  },
  {
   "cell_type": "code",
   "execution_count": 24,
   "id": "0ca30eec",
   "metadata": {},
   "outputs": [
    {
     "data": {
      "text/plain": [
       "<AxesSubplot:xlabel='Gender ', ylabel='count'>"
      ]
     },
     "execution_count": 24,
     "metadata": {},
     "output_type": "execute_result"
    },
    {
     "data": {
      "image/png": "[encoded data removed]",
      "text/plain": [
       "<Figure size 432x288 with 1 Axes>"
      ]
     },
     "metadata": {
      "needs_background": "light"
     },
     "output_type": "display_data"
    }
   ],
   "source": [
    "# Visualising gender wrt Status \n",
    "\n",
    "sns.countplot(x='Gender ',hue='Status',data=employee_data_new)  "
   ]
  },
  {
   "cell_type": "code",
   "execution_count": 25,
   "id": "89f2b6f9",
   "metadata": {},
   "outputs": [
    {
     "data": {
      "text/plain": [
       "<AxesSubplot:xlabel='Promotion_Status', ylabel='count'>"
      ]
     },
     "execution_count": 25,
     "metadata": {},
     "output_type": "execute_result"
    },
    {
     "data": {
      "image/png": "[encoded data removed]",
      "text/plain": [
       "<Figure size 432x288 with 1 Axes>"
      ]
     },
     "metadata": {
      "needs_background": "light"
     },
     "output_type": "display_data"
    }
   ],
   "source": [
    "# Visualising Promotion_Status wrt Status\n",
    "\n",
    "sns.countplot(x='Promotion_Status',hue='Status',data=employee_data_new)  \n",
    "\n",
    "#Looks like even if the employee is not promoted they have stayed back . Will analyse this further"
   ]
  },
  {
   "cell_type": "code",
   "execution_count": 26,
   "id": "fca408c4",
   "metadata": {},
   "outputs": [
    {
     "data": {
      "text/plain": [
       "<AxesSubplot:xlabel='Role_Match', ylabel='count'>"
      ]
     },
     "execution_count": 26,
     "metadata": {},
     "output_type": "execute_result"
    },
    {
     "data": {
      "image/png": "[encoded data removed]",
      "text/plain": [
       "<Figure size 432x288 with 1 Axes>"
      ]
     },
     "metadata": {
      "needs_background": "light"
     },
     "output_type": "display_data"
    }
   ],
   "source": [
    "# Visualising Role_Match wrt Status \n",
    "\n",
    "sns.countplot(x='Role_Match',hue='Status',data=employee_data_new)  \n",
    "\n",
    "#Looks like if the role match matches employees prefered to stay back . While if the role wasn't matching people did leave \n",
    "# Can't comment much at this point .Let's analyse further "
   ]
  },
  {
   "cell_type": "code",
   "execution_count": 27,
   "id": "47828d13",
   "metadata": {},
   "outputs": [
    {
     "data": {
      "text/html": [
       "<div>\n",
       "<style scoped>\n",
       "    .dataframe tbody tr th:only-of-type {\n",
       "        vertical-align: middle;\n",
       "    }\n",
       "\n",
       "    .dataframe tbody tr th {\n",
       "        vertical-align: top;\n",
       "    }\n",
       "\n",
       "    .dataframe thead th {\n",
       "        text-align: right;\n",
       "    }\n",
       "</style>\n",
       "<table border=\"1\" class=\"dataframe\">\n",
       "  <thead>\n",
       "    <tr style=\"text-align: right;\">\n",
       "      <th></th>\n",
       "      <th>Experience</th>\n",
       "      <th>Age</th>\n",
       "    </tr>\n",
       "  </thead>\n",
       "  <tbody>\n",
       "    <tr>\n",
       "      <th>Experience</th>\n",
       "      <td>1.000000</td>\n",
       "      <td>0.834944</td>\n",
       "    </tr>\n",
       "    <tr>\n",
       "      <th>Age</th>\n",
       "      <td>0.834944</td>\n",
       "      <td>1.000000</td>\n",
       "    </tr>\n",
       "  </tbody>\n",
       "</table>\n",
       "</div>"
      ],
      "text/plain": [
       "            Experience       Age\n",
       "Experience    1.000000  0.834944\n",
       "Age           0.834944  1.000000"
      ]
     },
     "execution_count": 27,
     "metadata": {},
     "output_type": "execute_result"
    }
   ],
   "source": [
    "#Correlation Matrix \n",
    "\n",
    "employee_data_new.corr()\n",
    "\n",
    "#Experience and age are highly correlated "
   ]
  },
  {
   "cell_type": "code",
   "execution_count": 31,
   "id": "2797700b",
   "metadata": {},
   "outputs": [],
   "source": [
    "#Label Encoding Categorical Variables\n",
    "\n",
    "pd.options.mode.chained_assignment = None\n",
    "\n",
    "from sklearn.preprocessing import LabelEncoder\n",
    "\n",
    "label_encoder=LabelEncoder()\n",
    "employee_data_new['Gender ']= label_encoder.fit_transform(employee_data_new['Gender '])"
   ]
  },
  {
   "cell_type": "code",
   "execution_count": 32,
   "id": "f6da1235",
   "metadata": {},
   "outputs": [],
   "source": [
    "employee_data_new['Promotion_Status']= label_encoder.fit_transform(employee_data_new['Promotion_Status'])"
   ]
  },
  {
   "cell_type": "code",
   "execution_count": 33,
   "id": "53978b87",
   "metadata": {},
   "outputs": [],
   "source": [
    "employee_data_new['Role_Match']= label_encoder.fit_transform(employee_data_new['Role_Match'])"
   ]
  },
  {
   "cell_type": "code",
   "execution_count": 34,
   "id": "77b1cb39",
   "metadata": {},
   "outputs": [],
   "source": [
    "employee_data_new['Tenure']= label_encoder.fit_transform(employee_data_new['Tenure'])"
   ]
  },
  {
   "cell_type": "code",
   "execution_count": 35,
   "id": "aa4d8ee1",
   "metadata": {},
   "outputs": [
    {
     "data": {
      "text/html": [
       "<div>\n",
       "<style scoped>\n",
       "    .dataframe tbody tr th:only-of-type {\n",
       "        vertical-align: middle;\n",
       "    }\n",
       "\n",
       "    .dataframe tbody tr th {\n",
       "        vertical-align: top;\n",
       "    }\n",
       "\n",
       "    .dataframe thead th {\n",
       "        text-align: right;\n",
       "    }\n",
       "</style>\n",
       "<table border=\"1\" class=\"dataframe\">\n",
       "  <thead>\n",
       "    <tr style=\"text-align: right;\">\n",
       "      <th></th>\n",
       "      <th>Gender</th>\n",
       "      <th>Tenure</th>\n",
       "      <th>Experience</th>\n",
       "      <th>Age</th>\n",
       "      <th>Promotion_Status</th>\n",
       "      <th>Role_Match</th>\n",
       "      <th>Status</th>\n",
       "    </tr>\n",
       "  </thead>\n",
       "  <tbody>\n",
       "    <tr>\n",
       "      <th>0</th>\n",
       "      <td>1</td>\n",
       "      <td>0</td>\n",
       "      <td>6.08</td>\n",
       "      <td>27.12</td>\n",
       "      <td>0</td>\n",
       "      <td>1</td>\n",
       "      <td>Left</td>\n",
       "    </tr>\n",
       "    <tr>\n",
       "      <th>1</th>\n",
       "      <td>1</td>\n",
       "      <td>0</td>\n",
       "      <td>13.00</td>\n",
       "      <td>38.08</td>\n",
       "      <td>1</td>\n",
       "      <td>0</td>\n",
       "      <td>Stay</td>\n",
       "    </tr>\n",
       "    <tr>\n",
       "      <th>2</th>\n",
       "      <td>1</td>\n",
       "      <td>0</td>\n",
       "      <td>16.05</td>\n",
       "      <td>36.04</td>\n",
       "      <td>1</td>\n",
       "      <td>1</td>\n",
       "      <td>Stay</td>\n",
       "    </tr>\n",
       "    <tr>\n",
       "      <th>3</th>\n",
       "      <td>1</td>\n",
       "      <td>0</td>\n",
       "      <td>6.06</td>\n",
       "      <td>32.07</td>\n",
       "      <td>1</td>\n",
       "      <td>1</td>\n",
       "      <td>Stay</td>\n",
       "    </tr>\n",
       "    <tr>\n",
       "      <th>4</th>\n",
       "      <td>1</td>\n",
       "      <td>0</td>\n",
       "      <td>7.00</td>\n",
       "      <td>32.05</td>\n",
       "      <td>0</td>\n",
       "      <td>1</td>\n",
       "      <td>Stay</td>\n",
       "    </tr>\n",
       "    <tr>\n",
       "      <th>...</th>\n",
       "      <td>...</td>\n",
       "      <td>...</td>\n",
       "      <td>...</td>\n",
       "      <td>...</td>\n",
       "      <td>...</td>\n",
       "      <td>...</td>\n",
       "      <td>...</td>\n",
       "    </tr>\n",
       "    <tr>\n",
       "      <th>896</th>\n",
       "      <td>1</td>\n",
       "      <td>0</td>\n",
       "      <td>0.03</td>\n",
       "      <td>24.06</td>\n",
       "      <td>0</td>\n",
       "      <td>1</td>\n",
       "      <td>Stay</td>\n",
       "    </tr>\n",
       "    <tr>\n",
       "      <th>897</th>\n",
       "      <td>0</td>\n",
       "      <td>0</td>\n",
       "      <td>0.03</td>\n",
       "      <td>21.09</td>\n",
       "      <td>0</td>\n",
       "      <td>1</td>\n",
       "      <td>Stay</td>\n",
       "    </tr>\n",
       "    <tr>\n",
       "      <th>898</th>\n",
       "      <td>0</td>\n",
       "      <td>0</td>\n",
       "      <td>0.03</td>\n",
       "      <td>22.02</td>\n",
       "      <td>0</td>\n",
       "      <td>1</td>\n",
       "      <td>Left</td>\n",
       "    </tr>\n",
       "    <tr>\n",
       "      <th>900</th>\n",
       "      <td>0</td>\n",
       "      <td>0</td>\n",
       "      <td>0.03</td>\n",
       "      <td>22.02</td>\n",
       "      <td>0</td>\n",
       "      <td>1</td>\n",
       "      <td>Stay</td>\n",
       "    </tr>\n",
       "    <tr>\n",
       "      <th>901</th>\n",
       "      <td>1</td>\n",
       "      <td>0</td>\n",
       "      <td>10.02</td>\n",
       "      <td>32.08</td>\n",
       "      <td>0</td>\n",
       "      <td>0</td>\n",
       "      <td>Stay</td>\n",
       "    </tr>\n",
       "  </tbody>\n",
       "</table>\n",
       "<p>896 rows × 7 columns</p>\n",
       "</div>"
      ],
      "text/plain": [
       "     Gender   Tenure  Experience    Age  Promotion_Status  Role_Match Status\n",
       "0          1       0        6.08  27.12                 0           1   Left\n",
       "1          1       0       13.00  38.08                 1           0   Stay\n",
       "2          1       0       16.05  36.04                 1           1   Stay\n",
       "3          1       0        6.06  32.07                 1           1   Stay\n",
       "4          1       0        7.00  32.05                 0           1   Stay\n",
       "..       ...     ...         ...    ...               ...         ...    ...\n",
       "896        1       0        0.03  24.06                 0           1   Stay\n",
       "897        0       0        0.03  21.09                 0           1   Stay\n",
       "898        0       0        0.03  22.02                 0           1   Left\n",
       "900        0       0        0.03  22.02                 0           1   Stay\n",
       "901        1       0       10.02  32.08                 0           0   Stay\n",
       "\n",
       "[896 rows x 7 columns]"
      ]
     },
     "execution_count": 35,
     "metadata": {},
     "output_type": "execute_result"
    }
   ],
   "source": [
    "employee_data_new"
   ]
  },
  {
   "cell_type": "code",
   "execution_count": 38,
   "id": "218310d9",
   "metadata": {},
   "outputs": [],
   "source": [
    "#Split the data into X & Y\n",
    "\n",
    "Y = employee_data_new['Status']\n",
    "X = employee_data_new.drop('Status' , axis=1)"
   ]
  },
  {
   "cell_type": "code",
   "execution_count": 41,
   "id": "dfcc211d",
   "metadata": {},
   "outputs": [
    {
     "data": {
      "text/plain": [
       "(     Gender   Tenure  Experience    Age  Promotion_Status  Role_Match\n",
       " 0          1       0        6.08  27.12                 0           1\n",
       " 1          1       0       13.00  38.08                 1           0\n",
       " 2          1       0       16.05  36.04                 1           1\n",
       " 3          1       0        6.06  32.07                 1           1\n",
       " 4          1       0        7.00  32.05                 0           1\n",
       " ..       ...     ...         ...    ...               ...         ...\n",
       " 896        1       0        0.03  24.06                 0           1\n",
       " 897        0       0        0.03  21.09                 0           1\n",
       " 898        0       0        0.03  22.02                 0           1\n",
       " 900        0       0        0.03  22.02                 0           1\n",
       " 901        1       0       10.02  32.08                 0           0\n",
       " \n",
       " [896 rows x 6 columns],\n",
       " 0      Left\n",
       " 1      Stay\n",
       " 2      Stay\n",
       " 3      Stay\n",
       " 4      Stay\n",
       "        ... \n",
       " 896    Stay\n",
       " 897    Stay\n",
       " 898    Left\n",
       " 900    Stay\n",
       " 901    Stay\n",
       " Name: Status, Length: 896, dtype: object)"
      ]
     },
     "execution_count": 41,
     "metadata": {},
     "output_type": "execute_result"
    }
   ],
   "source": [
    "X , Y"
   ]
  },
  {
   "cell_type": "code",
   "execution_count": 42,
   "id": "d948ec25",
   "metadata": {},
   "outputs": [],
   "source": [
    "#Sklearn libraries for splitting the dataset into train and test\n",
    "\n",
    "from sklearn.model_selection import train_test_split\n",
    "from sklearn.metrics import accuracy_score , confusion_matrix "
   ]
  },
  {
   "cell_type": "code",
   "execution_count": 44,
   "id": "6d19cb29",
   "metadata": {},
   "outputs": [],
   "source": [
    "X_train, X_test,Y_train, Y_test = train_test_split(X,Y , random_state=104, test_size=0.20)"
   ]
  },
  {
   "cell_type": "code",
   "execution_count": 45,
   "id": "3046737d",
   "metadata": {},
   "outputs": [
    {
     "data": {
      "text/html": [
       "<div>\n",
       "<style scoped>\n",
       "    .dataframe tbody tr th:only-of-type {\n",
       "        vertical-align: middle;\n",
       "    }\n",
       "\n",
       "    .dataframe tbody tr th {\n",
       "        vertical-align: top;\n",
       "    }\n",
       "\n",
       "    .dataframe thead th {\n",
       "        text-align: right;\n",
       "    }\n",
       "</style>\n",
       "<table border=\"1\" class=\"dataframe\">\n",
       "  <thead>\n",
       "    <tr style=\"text-align: right;\">\n",
       "      <th></th>\n",
       "      <th>Gender</th>\n",
       "      <th>Tenure</th>\n",
       "      <th>Experience</th>\n",
       "      <th>Age</th>\n",
       "      <th>Promotion_Status</th>\n",
       "      <th>Role_Match</th>\n",
       "    </tr>\n",
       "  </thead>\n",
       "  <tbody>\n",
       "    <tr>\n",
       "      <th>319</th>\n",
       "      <td>0</td>\n",
       "      <td>1</td>\n",
       "      <td>5.11</td>\n",
       "      <td>28.10</td>\n",
       "      <td>0</td>\n",
       "      <td>1</td>\n",
       "    </tr>\n",
       "    <tr>\n",
       "      <th>305</th>\n",
       "      <td>1</td>\n",
       "      <td>1</td>\n",
       "      <td>2.08</td>\n",
       "      <td>26.05</td>\n",
       "      <td>1</td>\n",
       "      <td>1</td>\n",
       "    </tr>\n",
       "    <tr>\n",
       "      <th>375</th>\n",
       "      <td>0</td>\n",
       "      <td>1</td>\n",
       "      <td>5.00</td>\n",
       "      <td>27.06</td>\n",
       "      <td>1</td>\n",
       "      <td>0</td>\n",
       "    </tr>\n",
       "    <tr>\n",
       "      <th>136</th>\n",
       "      <td>1</td>\n",
       "      <td>0</td>\n",
       "      <td>5.01</td>\n",
       "      <td>28.07</td>\n",
       "      <td>0</td>\n",
       "      <td>0</td>\n",
       "    </tr>\n",
       "    <tr>\n",
       "      <th>725</th>\n",
       "      <td>1</td>\n",
       "      <td>1</td>\n",
       "      <td>2.07</td>\n",
       "      <td>27.03</td>\n",
       "      <td>1</td>\n",
       "      <td>0</td>\n",
       "    </tr>\n",
       "  </tbody>\n",
       "</table>\n",
       "</div>"
      ],
      "text/plain": [
       "     Gender   Tenure  Experience    Age  Promotion_Status  Role_Match\n",
       "319        0       1        5.11  28.10                 0           1\n",
       "305        1       1        2.08  26.05                 1           1\n",
       "375        0       1        5.00  27.06                 1           0\n",
       "136        1       0        5.01  28.07                 0           0\n",
       "725        1       1        2.07  27.03                 1           0"
      ]
     },
     "execution_count": 45,
     "metadata": {},
     "output_type": "execute_result"
    }
   ],
   "source": [
    "X_train.head()"
   ]
  },
  {
   "cell_type": "code",
   "execution_count": 46,
   "id": "cafa27cd",
   "metadata": {},
   "outputs": [
    {
     "data": {
      "text/plain": [
       "507    Left\n",
       "202    Left\n",
       "161    Left\n",
       "525    Stay\n",
       "716    Left\n",
       "Name: Status, dtype: object"
      ]
     },
     "execution_count": 46,
     "metadata": {},
     "output_type": "execute_result"
    }
   ],
   "source": [
    "Y_test.head()"
   ]
  },
  {
   "cell_type": "code",
   "execution_count": 64,
   "id": "6314be6e",
   "metadata": {},
   "outputs": [],
   "source": [
    "#Importing necessary libraries to build the model . It's a classic Classification Problem \n",
    "\n",
    "from sklearn.linear_model import LogisticRegression \n",
    "from sklearn.tree import DecisionTreeClassifier\n",
    "from sklearn.ensemble import RandomForestClassifier \n",
    "from sklearn.svm import SVC\n",
    "from sklearn.neighbors import KNeighborsClassifier\n",
    "from sklearn.naive_bayes import GaussianNB\n",
    "\n"
   ]
  },
  {
   "cell_type": "code",
   "execution_count": 65,
   "id": "bc38f275",
   "metadata": {},
   "outputs": [],
   "source": [
    "logr = LogisticRegression(C=0.1 , solver =\"liblinear\")\n",
    "dtc = DecisionTreeClassifier()\n",
    "rfc = RandomForestClassifier() \n",
    "gnb= GaussianNB()\n",
    "knn = KNeighborsClassifier(n_neighbors=3)\n",
    "svm= SVC(kernel='linear')"
   ]
  },
  {
   "cell_type": "code",
   "execution_count": 62,
   "id": "11e3682b",
   "metadata": {},
   "outputs": [
    {
     "data": {
      "text/plain": [
       "(0.8798882681564246, 0.8666666666666667)"
      ]
     },
     "execution_count": 62,
     "metadata": {},
     "output_type": "execute_result"
    }
   ],
   "source": [
    "#Build th model using Logistic Regression and check train and test accuracy\n",
    "\n",
    "logistic_reg = logr.fit(X_train , Y_train )\n",
    "logreg_trainpred = logistic_reg.predict(X_train)\n",
    "logreg_testpred = logistic_reg.predict(X_test)\n",
    "logreg_accuracy_score1 = accuracy_score(Y_train , logreg_trainpred)\n",
    "logreg_accuracy_score2 = accuracy_score(Y_test , logreg_testpred)\n",
    "logreg_accuracy_score1 , logreg_accuracy_score2\n"
   ]
  },
  {
   "cell_type": "code",
   "execution_count": 61,
   "id": "8bf7bb48",
   "metadata": {},
   "outputs": [
    {
     "data": {
      "text/plain": [
       "(0.9986033519553073, 0.8611111111111112)"
      ]
     },
     "execution_count": 61,
     "metadata": {},
     "output_type": "execute_result"
    }
   ],
   "source": [
    "# Building model using DecisionTreeClassifier\n",
    "\n",
    "det_classifier = dtc.fit(X_train , Y_train )\n",
    "dtc_trainpred = det_classifier.predict(X_train)\n",
    "dtc_testpred = det_classifier.predict(X_test)\n",
    "dtc_accuracy_score1 = accuracy_score(Y_train , dtc_trainpred)\n",
    "dtc_accuracy_score2 = accuracy_score(Y_test , dtc_testpred)\n",
    "dtc_accuracy_score1 , dtc_accuracy_score2\n"
   ]
  },
  {
   "cell_type": "code",
   "execution_count": 60,
   "id": "6ed2784c",
   "metadata": {},
   "outputs": [
    {
     "data": {
      "text/plain": [
       "(0.9986033519553073, 0.9111111111111111)"
      ]
     },
     "execution_count": 60,
     "metadata": {},
     "output_type": "execute_result"
    }
   ],
   "source": [
    "#Build Model using RandomForestClassifier\n",
    "\n",
    "rfc_classifier = rfc.fit(X_train , Y_train )\n",
    "rfc_trainpred = rfc_classifier.predict(X_train)\n",
    "rfc_testpred = rfc_classifier.predict(X_test)\n",
    "rfc_accuracy_score1 = accuracy_score(Y_train , rfc_trainpred)\n",
    "rfc_accuracy_score2 = accuracy_score(Y_test , rfc_testpred)\n",
    "rfc_accuracy_score1,rfc_accuracy_score2\n"
   ]
  },
  {
   "cell_type": "code",
   "execution_count": 59,
   "id": "e5252bc5",
   "metadata": {},
   "outputs": [
    {
     "data": {
      "text/plain": [
       "(0.8547486033519553, 0.8666666666666667)"
      ]
     },
     "execution_count": 59,
     "metadata": {},
     "output_type": "execute_result"
    }
   ],
   "source": [
    "# Build model using GaussianNB\n",
    "\n",
    "gnb_classifier = gnb.fit(X_train , Y_train )\n",
    "gnb_trainpred = gnb_classifier.predict(X_train)\n",
    "gnb_testpred = gnb_classifier.predict(X_test)\n",
    "gnb_accuracy_score1 = accuracy_score(Y_train , gnb_trainpred)\n",
    "gnb_accuracy_score2 = accuracy_score(Y_test , gnb_testpred)\n",
    "gnb_accuracy_score1 , gnb_accuracy_score2\n"
   ]
  },
  {
   "cell_type": "code",
   "execution_count": 66,
   "id": "d283df0c",
   "metadata": {},
   "outputs": [
    {
     "data": {
      "text/plain": [
       "(0.9106145251396648, 0.8555555555555555)"
      ]
     },
     "execution_count": 66,
     "metadata": {},
     "output_type": "execute_result"
    }
   ],
   "source": [
    "# Build Model using KNN \n",
    "\n",
    "knn_classifier = knn.fit(X_train , Y_train )\n",
    "knn_trainpred = knn_classifier.predict(X_train)\n",
    "knn_testpred = knn_classifier.predict(X_test)\n",
    "knn_accuracy_score1 = accuracy_score(Y_train , knn_trainpred)\n",
    "knn_accuracy_score2 = accuracy_score(Y_test , knn_testpred)\n",
    "knn_accuracy_score1 , knn_accuracy_score2\n"
   ]
  },
  {
   "cell_type": "code",
   "execution_count": 67,
   "id": "a410fc18",
   "metadata": {},
   "outputs": [
    {
     "data": {
      "text/plain": [
       "(0.8687150837988827, 0.8833333333333333)"
      ]
     },
     "execution_count": 67,
     "metadata": {},
     "output_type": "execute_result"
    }
   ],
   "source": [
    "# Build Model using SVC \n",
    "\n",
    "svm_classifier = svm.fit(X_train , Y_train )\n",
    "svm_trainpred = svm_classifier.predict(X_train)\n",
    "svm_testpred = svm_classifier.predict(X_test)\n",
    "svm_accuracy_score1 = accuracy_score(Y_train , svm_trainpred)\n",
    "svm_accuracy_score2 = accuracy_score(Y_test , svm_testpred)\n",
    "svm_accuracy_score1 , svm_accuracy_score2"
   ]
  },
  {
   "cell_type": "code",
   "execution_count": null,
   "id": "a326e04a",
   "metadata": {},
   "outputs": [],
   "source": [
    "# From the above we model accuracies we see that DecisionTreeClassifier has high variance and is overfitting . SVC has highly biased .\n",
    "# Logistic Regression looks good , so does KNN "
   ]
  },
  {
   "cell_type": "code",
   "execution_count": 68,
   "id": "4ea15afe",
   "metadata": {},
   "outputs": [
    {
     "name": "stdout",
     "output_type": "stream",
     "text": [
      "              precision    recall  f1-score   support\n",
      "\n",
      "        Left       0.77      0.80      0.79        55\n",
      "        Stay       0.91      0.90      0.90       125\n",
      "\n",
      "    accuracy                           0.87       180\n",
      "   macro avg       0.84      0.85      0.84       180\n",
      "weighted avg       0.87      0.87      0.87       180\n",
      "\n"
     ]
    }
   ],
   "source": [
    "# Check the classification report for Logistic Regression \n",
    "\n",
    "from sklearn.metrics import classification_report \n",
    "\n",
    "\n",
    "logrg_pred = logistic_reg.predict (X_test)\n",
    "print (classification_report (Y_test , logrg_pred ))\n",
    "\n",
    "\n"
   ]
  },
  {
   "cell_type": "code",
   "execution_count": 69,
   "id": "734aa3ca",
   "metadata": {},
   "outputs": [
    {
     "name": "stdout",
     "output_type": "stream",
     "text": [
      "              precision    recall  f1-score   support\n",
      "\n",
      "        Left       0.81      0.69      0.75        55\n",
      "        Stay       0.87      0.93      0.90       125\n",
      "\n",
      "    accuracy                           0.86       180\n",
      "   macro avg       0.84      0.81      0.82       180\n",
      "weighted avg       0.85      0.86      0.85       180\n",
      "\n"
     ]
    }
   ],
   "source": [
    "# Check the classification report for KNN\n",
    "\n",
    "knn_pred = knn_classifier.predict (X_test)\n",
    "print (classification_report (Y_test , knn_pred ))"
   ]
  },
  {
   "cell_type": "code",
   "execution_count": null,
   "id": "59308e4c",
   "metadata": {},
   "outputs": [],
   "source": []
  }
 ],
 "metadata": {
  "kernelspec": {
   "display_name": "Python 3 (ipykernel)",
   "language": "python",
   "name": "python3"
  },
  "language_info": {
   "codemirror_mode": {
    "name": "ipython",
    "version": 3
   },
   "file_extension": ".py",
   "mimetype": "text/x-python",
   "name": "python",
   "nbconvert_exporter": "python",
   "pygments_lexer": "ipython3",
   "version": "3.9.7"
  }
 },
 "nbformat": 4,
 "nbformat_minor": 5
}
